{
 "cells": [
  {
   "cell_type": "markdown",
   "id": "f428d6de-94eb-4760-8e64-61f9990c0678",
   "metadata": {},
   "source": [
    "# Data Preproccssing Examples\n",
    "\n",
    "### Table of Contents\n",
    "1. [Shape parameter selection](##Shape-parameter-selection)\n",
    "2. [Gradient Enhanced Models](##gradient-enhanced-models)"
   ]
  },
  {
   "cell_type": "markdown",
   "id": "ae63f954-8c52-4bee-9aab-4ca9cab04d0c",
   "metadata": {},
   "source": [
    "## Shape parameter selection"
   ]
  },
  {
   "cell_type": "code",
   "execution_count": null,
   "id": "6013d9a1-abce-4518-8c3a-6a87a1b02af1",
   "metadata": {},
   "outputs": [],
   "source": []
  },
  {
   "cell_type": "markdown",
   "id": "62cf17d0-8e5c-4a00-9e64-fc7cfad4b4ba",
   "metadata": {},
   "source": [
    "## Linear Transformations"
   ]
  },
  {
   "cell_type": "code",
   "execution_count": null,
   "id": "46137b59-c46e-415a-9500-5f69eddce44c",
   "metadata": {},
   "outputs": [],
   "source": []
  },
  {
   "cell_type": "code",
   "execution_count": null,
   "id": "c9b35a63-4b35-4b69-a747-ecdfd680b51c",
   "metadata": {},
   "outputs": [],
   "source": []
  }
 ],
 "metadata": {
  "kernelspec": {
   "display_name": "Python 3 (ipykernel)",
   "language": "python",
   "name": "python3"
  },
  "language_info": {
   "codemirror_mode": {
    "name": "ipython",
    "version": 3
   },
   "file_extension": ".py",
   "mimetype": "text/x-python",
   "name": "python",
   "nbconvert_exporter": "python",
   "pygments_lexer": "ipython3",
   "version": "3.12.3"
  }
 },
 "nbformat": 4,
 "nbformat_minor": 5
}
