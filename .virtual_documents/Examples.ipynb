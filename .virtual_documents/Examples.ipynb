





from rbfmodels import RBFmodel #import the rbf model class
import numpy as np
from pyDOE import lhs

func = lambda x: np.sin(3 * np.pi * x)
grad = lambda x: 3 * np.pi * np.cos(3 * np.pi * x)

X = lhs(1, samples = 7, criterion = 'm')
y = func(X)
dy = grad(X)

model = RBFmodel(X, y) #Create the model instance.
model.FV_fit(epsi = 1) #Fit the model and specify shape parameter of the kernels.

x_test = np.linspace(0, 1, 100).reshape(-1,1)

y_pred, dy_pred = model(x_test) #Sample from the model. By defualt both function and gradient information is returned. 
#y_pred = model(x_test, OnlyFunc=True) if only function information is required.





import matplotlib.pyplot as plt

plt.plot(x_test, func(x_test), 'k', label = 'Underlying Function')
plt.plot(X, y, 'ko', label = 'Samples')
plt.plot(x_test, y_pred, 'r--', label = 'Function Model')
plt.legend()





from rbfmodels import RBFmodel #import the rbf model class
import numpy as np

func = lambda x: np.sin(3 * np.pi * x)
grad = lambda x: 3 * np.pi * np.cos(3 * np.pi * x)

X = lhs(1, samples = 7, criterion = 'm')
y = func(X)
dy = grad(X)

model = RBFmodel(X, y, dy = dy) #Create the model instance.
model.GE_fit(epsi = 0.1) #Fit the model and specify shape parameter of the kernels.

x_test = np.linspace(0, 1, 100).reshape(-1,1)

y_pred, dy_pred = model(x_test) #Sample from the model. By defualt both function and gradient information is returned. 
#y_pred = model(x_test, OnlyFunc=True) if only function information is required.





import matplotlib.pyplot as plt

plt.plot(x_test, func(x_test), 'k', label = 'Underlying Function')
plt.plot(X, y, 'ko', label = 'Samples')
plt.plot(x_test, y_pred, 'r--', label = 'Function Model')
plt.legend()





from rbfmodels import RBFmodel #import the rbf model class
import numpy as np

func = lambda x: np.sin(3 * np.pi * x)
grad = lambda x: 3 * np.pi * np.cos(3 * np.pi * x)

X = lhs(1, samples = 7, criterion = 'm')
y = func(X)
dy = grad(X)

model = RBFmodel(X, y, dy = dy) #Create the model instance.
model.GO_fit(X[0:1,:], y[0:1], epsi = 0.1) #Fit the model and specify shape parameter of the kernels.

x_test = np.linspace(0, 1, 100).reshape(-1,1)

y_pred, dy_pred = model(x_test) #Sample from the model. By defualt both function and gradient information is returned. 
#y_pred = model(x_test, OnlyFunc=True) if only function information is required.





import matplotlib.pyplot as plt

plt.plot(x_test, func(x_test), 'k', label = 'Underlying Function')
plt.plot(X, y, 'ko', label = 'Samples')
plt.plot(x_test, y_pred, 'r--', label = 'Function Model')
plt.legend()



